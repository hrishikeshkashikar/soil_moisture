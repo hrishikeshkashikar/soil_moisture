{
 "cells": [
  {
   "cell_type": "code",
   "execution_count": 9,
   "id": "6604d8fa",
   "metadata": {},
   "outputs": [
    {
     "name": "stdout",
     "output_type": "stream",
     "text": [
      "RMSE: 9.529915776284656e-16\n",
      "R-squared (R2): 1.0\n"
     ]
    }
   ],
   "source": [
    "# Import necessary libraries\n",
    "import numpy as np\n",
    "import pandas as pd\n",
    "from sklearn.model_selection import train_test_split\n",
    "from sklearn.linear_model import LinearRegression\n",
    "from sklearn.metrics import mean_squared_error, r2_score\n",
    "\n",
    "# Step 2: Load and explore the data\n",
    "# Load your soil moisture dataset\n",
    "data = pd.read_csv('/Users/hrishikeshkashikar/Downloads/archive/plant_vase2.csv')\n",
    "\n",
    "# Explore the data to understand its structure\n",
    "\n",
    "# Step 3: Data preprocessing\n",
    "# Handle missing values\n",
    "# Perform feature engineering if needed\n",
    "# Split the data into training and testing sets\n",
    "X = data.drop(columns=['moisture0', 'moisture1', 'moisture2'])  # Features\n",
    "y = data['moisture3']  # Target variable\n",
    "X_train, X_test, y_train, y_test = train_test_split(X, y, test_size=0.2, random_state=42)\n",
    "\n",
    "# Step 4: Choosing the Right Model\n",
    "model = LinearRegression() \n",
    "\n",
    "# Step 5: Training the model\n",
    "model.fit(X_train, y_train)\n",
    "\n",
    "# Step 5: Model Evaluation\n",
    "# Make predictions\n",
    "y_pred = model.predict(X_test)\n",
    "\n",
    "# Calculate RMSE and R-squared (coefficient of determination)\n",
    "rmse = np.sqrt(mean_squared_error(y_test, y_pred))\n",
    "r2 = r2_score(y_test, y_pred)\n",
    "\n",
    "# Print the evaluation metrics\n",
    "print(f'RMSE: {rmse}')\n",
    "print(f'R-squared (R2): {r2}')\n"
   ]
  },
  {
   "cell_type": "code",
   "execution_count": null,
   "id": "0e0e3b37",
   "metadata": {},
   "outputs": [],
   "source": []
  }
 ],
 "metadata": {
  "kernelspec": {
   "display_name": "Python 3 (ipykernel)",
   "language": "python",
   "name": "python3"
  },
  "language_info": {
   "codemirror_mode": {
    "name": "ipython",
    "version": 3
   },
   "file_extension": ".py",
   "mimetype": "text/x-python",
   "name": "python",
   "nbconvert_exporter": "python",
   "pygments_lexer": "ipython3",
   "version": "3.11.5"
  }
 },
 "nbformat": 4,
 "nbformat_minor": 5
}
